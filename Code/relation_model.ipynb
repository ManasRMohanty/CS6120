{
  "nbformat": 4,
  "nbformat_minor": 0,
  "metadata": {
    "colab": {
      "name": "relation_model.ipynb",
      "provenance": [],
      "collapsed_sections": [],
      "machine_shape": "hm"
    },
    "kernelspec": {
      "name": "python3",
      "display_name": "Python 3"
    },
    "accelerator": "GPU"
  },
  "cells": [
    {
      "cell_type": "code",
      "metadata": {
        "colab": {
          "base_uri": "https://localhost:8080/"
        },
        "id": "qmnxrigsdWf-",
        "outputId": "00003479-95e4-4908-9a7b-6bba9ce17a76"
      },
      "source": [
        "pip install transformers"
      ],
      "execution_count": null,
      "outputs": [
        {
          "output_type": "stream",
          "text": [
            "Collecting transformers\n",
            "\u001b[?25l  Downloading https://files.pythonhosted.org/packages/ed/db/98c3ea1a78190dac41c0127a063abf92bd01b4b0b6970a6db1c2f5b66fa0/transformers-4.0.1-py3-none-any.whl (1.4MB)\n",
            "\r\u001b[K     |▎                               | 10kB 27.2MB/s eta 0:00:01\r\u001b[K     |▌                               | 20kB 16.4MB/s eta 0:00:01\r\u001b[K     |▊                               | 30kB 10.6MB/s eta 0:00:01\r\u001b[K     |█                               | 40kB 8.9MB/s eta 0:00:01\r\u001b[K     |█▏                              | 51kB 4.3MB/s eta 0:00:01\r\u001b[K     |█▌                              | 61kB 4.8MB/s eta 0:00:01\r\u001b[K     |█▊                              | 71kB 5.2MB/s eta 0:00:01\r\u001b[K     |██                              | 81kB 5.4MB/s eta 0:00:01\r\u001b[K     |██▏                             | 92kB 5.8MB/s eta 0:00:01\r\u001b[K     |██▍                             | 102kB 6.0MB/s eta 0:00:01\r\u001b[K     |██▋                             | 112kB 6.0MB/s eta 0:00:01\r\u001b[K     |███                             | 122kB 6.0MB/s eta 0:00:01\r\u001b[K     |███▏                            | 133kB 6.0MB/s eta 0:00:01\r\u001b[K     |███▍                            | 143kB 6.0MB/s eta 0:00:01\r\u001b[K     |███▋                            | 153kB 6.0MB/s eta 0:00:01\r\u001b[K     |███▉                            | 163kB 6.0MB/s eta 0:00:01\r\u001b[K     |████▏                           | 174kB 6.0MB/s eta 0:00:01\r\u001b[K     |████▍                           | 184kB 6.0MB/s eta 0:00:01\r\u001b[K     |████▋                           | 194kB 6.0MB/s eta 0:00:01\r\u001b[K     |████▉                           | 204kB 6.0MB/s eta 0:00:01\r\u001b[K     |█████                           | 215kB 6.0MB/s eta 0:00:01\r\u001b[K     |█████▎                          | 225kB 6.0MB/s eta 0:00:01\r\u001b[K     |█████▋                          | 235kB 6.0MB/s eta 0:00:01\r\u001b[K     |█████▉                          | 245kB 6.0MB/s eta 0:00:01\r\u001b[K     |██████                          | 256kB 6.0MB/s eta 0:00:01\r\u001b[K     |██████▎                         | 266kB 6.0MB/s eta 0:00:01\r\u001b[K     |██████▌                         | 276kB 6.0MB/s eta 0:00:01\r\u001b[K     |██████▉                         | 286kB 6.0MB/s eta 0:00:01\r\u001b[K     |███████                         | 296kB 6.0MB/s eta 0:00:01\r\u001b[K     |███████▎                        | 307kB 6.0MB/s eta 0:00:01\r\u001b[K     |███████▌                        | 317kB 6.0MB/s eta 0:00:01\r\u001b[K     |███████▊                        | 327kB 6.0MB/s eta 0:00:01\r\u001b[K     |████████                        | 337kB 6.0MB/s eta 0:00:01\r\u001b[K     |████████▎                       | 348kB 6.0MB/s eta 0:00:01\r\u001b[K     |████████▌                       | 358kB 6.0MB/s eta 0:00:01\r\u001b[K     |████████▊                       | 368kB 6.0MB/s eta 0:00:01\r\u001b[K     |█████████                       | 378kB 6.0MB/s eta 0:00:01\r\u001b[K     |█████████▏                      | 389kB 6.0MB/s eta 0:00:01\r\u001b[K     |█████████▌                      | 399kB 6.0MB/s eta 0:00:01\r\u001b[K     |█████████▊                      | 409kB 6.0MB/s eta 0:00:01\r\u001b[K     |██████████                      | 419kB 6.0MB/s eta 0:00:01\r\u001b[K     |██████████▏                     | 430kB 6.0MB/s eta 0:00:01\r\u001b[K     |██████████▍                     | 440kB 6.0MB/s eta 0:00:01\r\u001b[K     |██████████▋                     | 450kB 6.0MB/s eta 0:00:01\r\u001b[K     |███████████                     | 460kB 6.0MB/s eta 0:00:01\r\u001b[K     |███████████▏                    | 471kB 6.0MB/s eta 0:00:01\r\u001b[K     |███████████▍                    | 481kB 6.0MB/s eta 0:00:01\r\u001b[K     |███████████▋                    | 491kB 6.0MB/s eta 0:00:01\r\u001b[K     |███████████▉                    | 501kB 6.0MB/s eta 0:00:01\r\u001b[K     |████████████▏                   | 512kB 6.0MB/s eta 0:00:01\r\u001b[K     |████████████▍                   | 522kB 6.0MB/s eta 0:00:01\r\u001b[K     |████████████▋                   | 532kB 6.0MB/s eta 0:00:01\r\u001b[K     |████████████▉                   | 542kB 6.0MB/s eta 0:00:01\r\u001b[K     |█████████████                   | 552kB 6.0MB/s eta 0:00:01\r\u001b[K     |█████████████▎                  | 563kB 6.0MB/s eta 0:00:01\r\u001b[K     |█████████████▋                  | 573kB 6.0MB/s eta 0:00:01\r\u001b[K     |█████████████▉                  | 583kB 6.0MB/s eta 0:00:01\r\u001b[K     |██████████████                  | 593kB 6.0MB/s eta 0:00:01\r\u001b[K     |██████████████▎                 | 604kB 6.0MB/s eta 0:00:01\r\u001b[K     |██████████████▌                 | 614kB 6.0MB/s eta 0:00:01\r\u001b[K     |██████████████▉                 | 624kB 6.0MB/s eta 0:00:01\r\u001b[K     |███████████████                 | 634kB 6.0MB/s eta 0:00:01\r\u001b[K     |███████████████▎                | 645kB 6.0MB/s eta 0:00:01\r\u001b[K     |███████████████▌                | 655kB 6.0MB/s eta 0:00:01\r\u001b[K     |███████████████▊                | 665kB 6.0MB/s eta 0:00:01\r\u001b[K     |████████████████                | 675kB 6.0MB/s eta 0:00:01\r\u001b[K     |████████████████▎               | 686kB 6.0MB/s eta 0:00:01\r\u001b[K     |████████████████▌               | 696kB 6.0MB/s eta 0:00:01\r\u001b[K     |████████████████▊               | 706kB 6.0MB/s eta 0:00:01\r\u001b[K     |█████████████████               | 716kB 6.0MB/s eta 0:00:01\r\u001b[K     |█████████████████▏              | 727kB 6.0MB/s eta 0:00:01\r\u001b[K     |█████████████████▌              | 737kB 6.0MB/s eta 0:00:01\r\u001b[K     |█████████████████▊              | 747kB 6.0MB/s eta 0:00:01\r\u001b[K     |██████████████████              | 757kB 6.0MB/s eta 0:00:01\r\u001b[K     |██████████████████▏             | 768kB 6.0MB/s eta 0:00:01\r\u001b[K     |██████████████████▍             | 778kB 6.0MB/s eta 0:00:01\r\u001b[K     |██████████████████▋             | 788kB 6.0MB/s eta 0:00:01\r\u001b[K     |███████████████████             | 798kB 6.0MB/s eta 0:00:01\r\u001b[K     |███████████████████▏            | 808kB 6.0MB/s eta 0:00:01\r\u001b[K     |███████████████████▍            | 819kB 6.0MB/s eta 0:00:01\r\u001b[K     |███████████████████▋            | 829kB 6.0MB/s eta 0:00:01\r\u001b[K     |███████████████████▉            | 839kB 6.0MB/s eta 0:00:01\r\u001b[K     |████████████████████▏           | 849kB 6.0MB/s eta 0:00:01\r\u001b[K     |████████████████████▍           | 860kB 6.0MB/s eta 0:00:01\r\u001b[K     |████████████████████▋           | 870kB 6.0MB/s eta 0:00:01\r\u001b[K     |████████████████████▉           | 880kB 6.0MB/s eta 0:00:01\r\u001b[K     |█████████████████████           | 890kB 6.0MB/s eta 0:00:01\r\u001b[K     |█████████████████████▎          | 901kB 6.0MB/s eta 0:00:01\r\u001b[K     |█████████████████████▋          | 911kB 6.0MB/s eta 0:00:01\r\u001b[K     |█████████████████████▉          | 921kB 6.0MB/s eta 0:00:01\r\u001b[K     |██████████████████████          | 931kB 6.0MB/s eta 0:00:01\r\u001b[K     |██████████████████████▎         | 942kB 6.0MB/s eta 0:00:01\r\u001b[K     |██████████████████████▌         | 952kB 6.0MB/s eta 0:00:01\r\u001b[K     |██████████████████████▊         | 962kB 6.0MB/s eta 0:00:01\r\u001b[K     |███████████████████████         | 972kB 6.0MB/s eta 0:00:01\r\u001b[K     |███████████████████████▎        | 983kB 6.0MB/s eta 0:00:01\r\u001b[K     |███████████████████████▌        | 993kB 6.0MB/s eta 0:00:01\r\u001b[K     |███████████████████████▊        | 1.0MB 6.0MB/s eta 0:00:01\r\u001b[K     |████████████████████████        | 1.0MB 6.0MB/s eta 0:00:01\r\u001b[K     |████████████████████████▎       | 1.0MB 6.0MB/s eta 0:00:01\r\u001b[K     |████████████████████████▌       | 1.0MB 6.0MB/s eta 0:00:01\r\u001b[K     |████████████████████████▊       | 1.0MB 6.0MB/s eta 0:00:01\r\u001b[K     |█████████████████████████       | 1.1MB 6.0MB/s eta 0:00:01\r\u001b[K     |█████████████████████████▏      | 1.1MB 6.0MB/s eta 0:00:01\r\u001b[K     |█████████████████████████▍      | 1.1MB 6.0MB/s eta 0:00:01\r\u001b[K     |█████████████████████████▊      | 1.1MB 6.0MB/s eta 0:00:01\r\u001b[K     |██████████████████████████      | 1.1MB 6.0MB/s eta 0:00:01\r\u001b[K     |██████████████████████████▏     | 1.1MB 6.0MB/s eta 0:00:01\r\u001b[K     |██████████████████████████▍     | 1.1MB 6.0MB/s eta 0:00:01\r\u001b[K     |██████████████████████████▋     | 1.1MB 6.0MB/s eta 0:00:01\r\u001b[K     |███████████████████████████     | 1.1MB 6.0MB/s eta 0:00:01\r\u001b[K     |███████████████████████████▏    | 1.1MB 6.0MB/s eta 0:00:01\r\u001b[K     |███████████████████████████▍    | 1.2MB 6.0MB/s eta 0:00:01\r\u001b[K     |███████████████████████████▋    | 1.2MB 6.0MB/s eta 0:00:01\r\u001b[K     |███████████████████████████▉    | 1.2MB 6.0MB/s eta 0:00:01\r\u001b[K     |████████████████████████████    | 1.2MB 6.0MB/s eta 0:00:01\r\u001b[K     |████████████████████████████▍   | 1.2MB 6.0MB/s eta 0:00:01\r\u001b[K     |████████████████████████████▋   | 1.2MB 6.0MB/s eta 0:00:01\r\u001b[K     |████████████████████████████▉   | 1.2MB 6.0MB/s eta 0:00:01\r\u001b[K     |█████████████████████████████   | 1.2MB 6.0MB/s eta 0:00:01\r\u001b[K     |█████████████████████████████▎  | 1.2MB 6.0MB/s eta 0:00:01\r\u001b[K     |█████████████████████████████▋  | 1.2MB 6.0MB/s eta 0:00:01\r\u001b[K     |█████████████████████████████▉  | 1.3MB 6.0MB/s eta 0:00:01\r\u001b[K     |██████████████████████████████  | 1.3MB 6.0MB/s eta 0:00:01\r\u001b[K     |██████████████████████████████▎ | 1.3MB 6.0MB/s eta 0:00:01\r\u001b[K     |██████████████████████████████▌ | 1.3MB 6.0MB/s eta 0:00:01\r\u001b[K     |██████████████████████████████▊ | 1.3MB 6.0MB/s eta 0:00:01\r\u001b[K     |███████████████████████████████ | 1.3MB 6.0MB/s eta 0:00:01\r\u001b[K     |███████████████████████████████▎| 1.3MB 6.0MB/s eta 0:00:01\r\u001b[K     |███████████████████████████████▌| 1.3MB 6.0MB/s eta 0:00:01\r\u001b[K     |███████████████████████████████▊| 1.3MB 6.0MB/s eta 0:00:01\r\u001b[K     |████████████████████████████████| 1.4MB 6.0MB/s eta 0:00:01\r\u001b[K     |████████████████████████████████| 1.4MB 6.0MB/s \n",
            "\u001b[?25hRequirement already satisfied: regex!=2019.12.17 in /usr/local/lib/python3.6/dist-packages (from transformers) (2019.12.20)\n",
            "Collecting tokenizers==0.9.4\n",
            "\u001b[?25l  Downloading https://files.pythonhosted.org/packages/0f/1c/e789a8b12e28be5bc1ce2156cf87cb522b379be9cadc7ad8091a4cc107c4/tokenizers-0.9.4-cp36-cp36m-manylinux2010_x86_64.whl (2.9MB)\n",
            "\u001b[K     |████████████████████████████████| 2.9MB 63.1MB/s \n",
            "\u001b[?25hRequirement already satisfied: numpy in /usr/local/lib/python3.6/dist-packages (from transformers) (1.18.5)\n",
            "Requirement already satisfied: dataclasses; python_version < \"3.7\" in /usr/local/lib/python3.6/dist-packages (from transformers) (0.8)\n",
            "Collecting sacremoses\n",
            "\u001b[?25l  Downloading https://files.pythonhosted.org/packages/7d/34/09d19aff26edcc8eb2a01bed8e98f13a1537005d31e95233fd48216eed10/sacremoses-0.0.43.tar.gz (883kB)\n",
            "\u001b[K     |████████████████████████████████| 890kB 69.9MB/s \n",
            "\u001b[?25hRequirement already satisfied: requests in /usr/local/lib/python3.6/dist-packages (from transformers) (2.23.0)\n",
            "Requirement already satisfied: filelock in /usr/local/lib/python3.6/dist-packages (from transformers) (3.0.12)\n",
            "Requirement already satisfied: tqdm>=4.27 in /usr/local/lib/python3.6/dist-packages (from transformers) (4.41.1)\n",
            "Requirement already satisfied: packaging in /usr/local/lib/python3.6/dist-packages (from transformers) (20.7)\n",
            "Requirement already satisfied: six in /usr/local/lib/python3.6/dist-packages (from sacremoses->transformers) (1.15.0)\n",
            "Requirement already satisfied: click in /usr/local/lib/python3.6/dist-packages (from sacremoses->transformers) (7.1.2)\n",
            "Requirement already satisfied: joblib in /usr/local/lib/python3.6/dist-packages (from sacremoses->transformers) (0.17.0)\n",
            "Requirement already satisfied: idna<3,>=2.5 in /usr/local/lib/python3.6/dist-packages (from requests->transformers) (2.10)\n",
            "Requirement already satisfied: chardet<4,>=3.0.2 in /usr/local/lib/python3.6/dist-packages (from requests->transformers) (3.0.4)\n",
            "Requirement already satisfied: certifi>=2017.4.17 in /usr/local/lib/python3.6/dist-packages (from requests->transformers) (2020.12.5)\n",
            "Requirement already satisfied: urllib3!=1.25.0,!=1.25.1,<1.26,>=1.21.1 in /usr/local/lib/python3.6/dist-packages (from requests->transformers) (1.24.3)\n",
            "Requirement already satisfied: pyparsing>=2.0.2 in /usr/local/lib/python3.6/dist-packages (from packaging->transformers) (2.4.7)\n",
            "Building wheels for collected packages: sacremoses\n",
            "  Building wheel for sacremoses (setup.py) ... \u001b[?25l\u001b[?25hdone\n",
            "  Created wheel for sacremoses: filename=sacremoses-0.0.43-cp36-none-any.whl size=893261 sha256=3416bd99f0ce16473fe205c707428486d78c3700d53e87799d4b3c8aa4d5ceff\n",
            "  Stored in directory: /root/.cache/pip/wheels/29/3c/fd/7ce5c3f0666dab31a50123635e6fb5e19ceb42ce38d4e58f45\n",
            "Successfully built sacremoses\n",
            "Installing collected packages: tokenizers, sacremoses, transformers\n",
            "Successfully installed sacremoses-0.0.43 tokenizers-0.9.4 transformers-4.0.1\n"
          ],
          "name": "stdout"
        }
      ]
    },
    {
      "cell_type": "code",
      "metadata": {
        "colab": {
          "base_uri": "https://localhost:8080/"
        },
        "id": "UOzLod-QbsRq",
        "outputId": "7f632fb2-4c16-41c1-b492-e07c2dfc7285"
      },
      "source": [
        "from google.colab import drive\n",
        "drive.mount('/content/drive')"
      ],
      "execution_count": null,
      "outputs": [
        {
          "output_type": "stream",
          "text": [
            "Mounted at /content/drive\n"
          ],
          "name": "stdout"
        }
      ]
    },
    {
      "cell_type": "code",
      "metadata": {
        "id": "P1-1RYsUcZgy"
      },
      "source": [
        "import pickle\n",
        "from tqdm import tqdm\n",
        "import torch"
      ],
      "execution_count": null,
      "outputs": []
    },
    {
      "cell_type": "code",
      "metadata": {
        "id": "bvEciDRXcIa2"
      },
      "source": [
        "training_files = pickle.load(open(\"/content/drive/MyDrive/CS6120/training_files.pkl\",\"rb\"))"
      ],
      "execution_count": null,
      "outputs": []
    },
    {
      "cell_type": "code",
      "metadata": {
        "id": "HluYH0Vjc0gE"
      },
      "source": [
        "concept_df= pickle.load(open(\"/content/drive/MyDrive/CS6120/concept_df.pkl\",\"rb\"))\n",
        "relation_df= pickle.load(open(\"/content/drive/MyDrive/CS6120/relation_df.pkl\",\"rb\"))\n",
        "text_df = pickle.load(open(\"/content/drive/MyDrive/CS6120/text_df.pkl\",\"rb\"))"
      ],
      "execution_count": 40,
      "outputs": []
    },
    {
      "cell_type": "code",
      "metadata": {
        "id": "MD5c-9ieLgK6"
      },
      "source": [
        "all_files = list(set(list(concept_df['file_name'])))"
      ],
      "execution_count": null,
      "outputs": []
    },
    {
      "cell_type": "code",
      "metadata": {
        "id": "zPkSAI4ELrxn"
      },
      "source": [
        "test_files = [entry for entry in all_files if entry not in training_files ]"
      ],
      "execution_count": null,
      "outputs": []
    },
    {
      "cell_type": "code",
      "metadata": {
        "id": "0R8flUvMdSnN"
      },
      "source": [
        "from transformers import BertTokenizer\n",
        "from keras.preprocessing.sequence import pad_sequences"
      ],
      "execution_count": null,
      "outputs": []
    },
    {
      "cell_type": "code",
      "metadata": {
        "id": "XMBHXZDedplA"
      },
      "source": [
        "bert_tokenizer = BertTokenizer.from_pretrained(\"/content/drive/MyDrive/CS6120/NCBI_BERT_pubmed_mimic_uncased_L-12_H-768_A-12\")"
      ],
      "execution_count": null,
      "outputs": []
    },
    {
      "cell_type": "code",
      "metadata": {
        "id": "jy99zf0SeDFA"
      },
      "source": [
        "relation_model_pp = pickle.load(open(\"/content/drive/MyDrive/CS6120/relation_finetuned_seq_pp.pkl\",\"rb\"))"
      ],
      "execution_count": null,
      "outputs": []
    },
    {
      "cell_type": "code",
      "metadata": {
        "id": "8456A-5ms4dD"
      },
      "source": [
        "relation_model_pte = pickle.load(open(\"/content/drive/MyDrive/CS6120/relation_finetuned_seq_pte.pkl\",\"rb\"))"
      ],
      "execution_count": null,
      "outputs": []
    },
    {
      "cell_type": "code",
      "metadata": {
        "id": "MyH1qoiOs9JI"
      },
      "source": [
        "relation_model_ptr = pickle.load(open(\"/content/drive/MyDrive/CS6120/relation_finetuned_seq_pte.pkl\",\"rb\"))"
      ],
      "execution_count": null,
      "outputs": []
    },
    {
      "cell_type": "code",
      "metadata": {
        "id": "Ei-Q2MksY61k"
      },
      "source": [
        "relation_model_pp = relation_model_pp.to('cuda')\r\n",
        "relation_model_pte = relation_model_pte.to('cuda')\r\n",
        "relation_model_ptr = relation_model_ptr.to('cuda')"
      ],
      "execution_count": null,
      "outputs": []
    },
    {
      "cell_type": "code",
      "metadata": {
        "id": "ApJRIcZyY_Fz"
      },
      "source": [
        "relation_model = relation_model.eval()"
      ],
      "execution_count": null,
      "outputs": []
    },
    {
      "cell_type": "code",
      "metadata": {
        "id": "v2zjbXigtNrl"
      },
      "source": [
        "relation_model_pp = relation_model_pp.eval()\r\n",
        "relation_model_pte = relation_model_pte.eval()\r\n",
        "relation_model_ptr = relation_model_ptr.eval()"
      ],
      "execution_count": null,
      "outputs": []
    },
    {
      "cell_type": "code",
      "metadata": {
        "id": "G3_XZiR01dY6"
      },
      "source": [
        "import gc"
      ],
      "execution_count": null,
      "outputs": []
    },
    {
      "cell_type": "code",
      "metadata": {
        "id": "gzmbIO8ddLWU"
      },
      "source": [
        "def get_embeddings_for_nsp(first_sentence, second_sentence):\n",
        "        encoding = bert_tokenizer(first_sentence, second_sentence, return_tensors='pt')['input_ids'][0]\n",
        "\n",
        "        return encoding"
      ],
      "execution_count": null,
      "outputs": []
    },
    {
      "cell_type": "code",
      "metadata": {
        "colab": {
          "base_uri": "https://localhost:8080/"
        },
        "id": "M0l1WhDFwXEi",
        "outputId": "4417d70c-f838-4c0c-afdf-b95361cd0298"
      },
      "source": [
        "get_embeddings_for_nsp(\"I like that.\",\"\")"
      ],
      "execution_count": 17,
      "outputs": [
        {
          "output_type": "execute_result",
          "data": {
            "text/plain": [
              "tensor([ 101, 1045, 2066, 2008, 1012,  102,  102])"
            ]
          },
          "metadata": {
            "tags": []
          },
          "execution_count": 17
        }
      ]
    },
    {
      "cell_type": "code",
      "metadata": {
        "id": "-zcCaIu-efPl"
      },
      "source": [
        "sentence_map = dict()\n",
        "\n",
        "#Treatment improves medical problem\n",
        "sentence_map['TrIP'] = [\"{0} improves {1}.\"]\n",
        "\n",
        "#Treatment worsens medical problem\n",
        "sentence_map['TrWP'] = [\"{0} worsens {1}.\"]\n",
        "\n",
        "#Treatment causes medical problem\n",
        "sentence_map['TrCP'] = [\"{0} causes {1}.\"]\n",
        "\n",
        "#Treatment is administered for the medical problem\n",
        "sentence_map['TrAP'] = [\"{0} is administered for {1}.\"]\n",
        "\n",
        "#Treatment is not administered because of medical problem\n",
        "sentence_map['TrNAP'] = [\"{0} is not administered due to {1}.\"]\n",
        "\n",
        "#Treatment is not administered because of medical problem\n",
        "sentence_map['NoREL'] = [\"{0} and {1} has relation.\"]\n",
        "\n",
        "#Test reveals medical problem\n",
        "sentence_map['TeRP'] = [\"{0} reveals {1}.\"]\n",
        "\n",
        "#Test conducted to investigate medical problem\n",
        "sentence_map['TeCP'] = [\"{0} is conducted to investigate {1}.\"]\n",
        "\n",
        "#Medical problem indicates medical problem\n",
        "sentence_map['PIP'] = [\"{1} indicates {0}.\"]"
      ],
      "execution_count": null,
      "outputs": []
    },
    {
      "cell_type": "code",
      "metadata": {
        "id": "or1y1R41fWy3"
      },
      "source": [
        "device = torch.device(\"cuda\")"
      ],
      "execution_count": null,
      "outputs": []
    },
    {
      "cell_type": "code",
      "metadata": {
        "id": "wWCI_cHIxxBq"
      },
      "source": [
        "relation_model = relation_model.cuda()"
      ],
      "execution_count": null,
      "outputs": []
    },
    {
      "cell_type": "code",
      "metadata": {
        "colab": {
          "base_uri": "https://localhost:8080/"
        },
        "id": "A3bjVArHfkNv",
        "outputId": "01094c54-5e66-4564-e600-fe91c6a4c0e4"
      },
      "source": [
        "# If there's a GPU available...\n",
        "if torch.cuda.is_available():    \n",
        "\n",
        "    # Tell PyTorch to use the GPU.    \n",
        "    device = torch.device(\"cuda\")\n",
        "\n",
        "    print('There are %d GPU(s) available.' % torch.cuda.device_count())\n",
        "\n",
        "    print('We will use the GPU:', torch.cuda.get_device_name(0))"
      ],
      "execution_count": null,
      "outputs": [
        {
          "output_type": "stream",
          "text": [
            "There are 1 GPU(s) available.\n",
            "We will use the GPU: Tesla V100-SXM2-16GB\n"
          ],
          "name": "stdout"
        }
      ]
    },
    {
      "cell_type": "code",
      "metadata": {
        "id": "MthIQ5_cf7Fz"
      },
      "source": [
        "device = torch.device(\"cuda\")"
      ],
      "execution_count": null,
      "outputs": []
    },
    {
      "cell_type": "code",
      "metadata": {
        "id": "_p04V4VUYD-M"
      },
      "source": [
        "relation_model = relation_model.eval()"
      ],
      "execution_count": null,
      "outputs": []
    },
    {
      "cell_type": "code",
      "metadata": {
        "colab": {
          "base_uri": "https://localhost:8080/"
        },
        "id": "y6hO3TpTqJFT",
        "outputId": "638786b6-c0da-4d7a-cd2a-2eafb76f3927"
      },
      "source": [
        "len(all_problems)"
      ],
      "execution_count": null,
      "outputs": [
        {
          "output_type": "execute_result",
          "data": {
            "text/plain": [
              "15396"
            ]
          },
          "metadata": {
            "tags": []
          },
          "execution_count": 14
        }
      ]
    },
    {
      "cell_type": "code",
      "metadata": {
        "colab": {
          "base_uri": "https://localhost:8080/"
        },
        "id": "sKQyi4JIchDg",
        "outputId": "958bf476-4e07-416b-d9f6-83bbb1660524"
      },
      "source": [
        "relation_list = list()\n",
        "exist_rec_list = list()\n",
        "\n",
        "all_relations_dict = {\"treatment\":['TrIP','TrWP','TrCP','TrAP','TrNAP','NoREL'], \"test\":['TeRP','TeCP','NoREL'], \"problem\":['PIP','NoREL']}\n",
        "\n",
        "all_problems = concept_df[(concept_df['concept_type']=='problem') & (concept_df['file_name'].isin(training_files))]\n",
        "\n",
        "for i in tqdm(range(16)):\n",
        "    relation_list_in = list()\n",
        "    for index,row in all_problems.iloc[i*1000:min((i+1)*1000,len(all_problems))].iterrows():\n",
        "        all_other_entities = concept_df[(concept_df['file_name']==row['file_name'])&(concept_df['source']==row['source'])&(concept_df['line_number']==row['line_number'])&(concept_df['begin_word_num']!=row['begin_word_num'])]\n",
        "        \n",
        "        for entity_index,entity_row in all_other_entities.iterrows():\n",
        "            \n",
        "            key_to_check = row[\"source\"]+\"#\"+row[\"file_name\"]+\"#\"+str(row[\"line_number\"])+\"#\"+str(entity_row[\"begin_word_num\"])+\"#\"+str(row[\"begin_word_num\"])\n",
        "            \n",
        "            if(key_to_check in exist_rec_list):\n",
        "                continue\n",
        "            else:\n",
        "                exist_rec_list.append(row[\"source\"]+\"#\"+row[\"file_name\"]+\"#\"+str(row[\"line_number\"])+\"#\"+str(row[\"begin_word_num\"])+\"#\"+str(entity_row[\"begin_word_num\"]))\n",
        "            \n",
        "            relation_df_record = relation_df[(relation_df['file_name']==row['file_name'])&(relation_df['source']==row['source'])&(relation_df['from_line_number']==row['line_number'])&(((relation_df['from_begin_word_num']==row['begin_word_num']) & (relation_df['to_begin_word_num']==entity_row['begin_word_num'])) |((relation_df['from_begin_word_num']==entity_row['begin_word_num']) & (relation_df['to_begin_word_num']==row['begin_word_num'])))]\n",
        "            \n",
        "            rel_dict = dict()\n",
        "\n",
        "            if(len(relation_df_record)==0):\n",
        "                relation = 'NoREL'\n",
        "            else:\n",
        "                relation = relation_df_record.iloc[0][\"relation_type\"]\n",
        "\n",
        "            rel_dict['relation'] = relation\n",
        "            \n",
        "            #remaining_relations = [entry for entry in all_relations_dict[entity_row['concept_type']] if entry != relation]\n",
        "            \n",
        "            #relation_label_list.append(relation_label_dict[relation])\n",
        "        \n",
        "            #remaining_relations = [entry for entry in all_relations_dict[entity_row['concept_type']] if entry != relation]\n",
        "            \n",
        "            first_sentence = text_df[text_df['file_name']==row['file_name']].iloc[0]['text'].split(\"\\n\")[row['line_number']-1]\n",
        "            \n",
        "            first_sentence.replace(row['text'],\"@problem\")\n",
        "            \n",
        "            if(entity_row['concept_type']=='problem'):\n",
        "                relation_model = relation_model_pp\n",
        "                first_sentence.replace(entity_row['text'],\"@related_problem\")\n",
        "            elif(entity_row['concept_type']=='test'):\n",
        "                relation_model = relation_model_pte\n",
        "                first_sentence.replace(entity_row['text'],\"@test\")\n",
        "            else:\n",
        "                relation_model = relation_model_ptr\n",
        "                first_sentence.replace(entity_row['text'],\"@treatment\")\n",
        "\n",
        "            encoding = bert_tokenizer.encode(first_sentence)\n",
        "                      \n",
        "            input_tensor = torch.tensor(pad_sequences([encoding],maxlen=512, dtype=\"long\", \n",
        "                      value=0, truncating=\"post\", padding=\"post\")).long()\n",
        "\n",
        "            input_tensor = input_tensor.to('cuda')\n",
        "\n",
        "            with torch.no_grad():\n",
        "              embedding = relation_model(input_tensor)\n",
        "              \n",
        "              op_tensor = embedding[1][12][0][0].to('cpu')\n",
        "\n",
        "              \n",
        "              rel_dict['embedding'] = op_tensor.detach().numpy()\n",
        "              rel_dict['type'] = entity_row['concept_type']\n",
        "              relation_list_in.append(rel_dict)\n",
        "\n",
        "            '''\n",
        "\n",
        "            for entry in sentence_map[relation]:\n",
        "                second_sentence = entry.format(entity_row['text'],row['text'])\n",
        "                \n",
        "                encoding = get_embeddings_for_nsp(first_sentence,second_sentence)\n",
        "                \n",
        "                input_ids = pad_sequences([encoding],maxlen=512, dtype=\"long\", \n",
        "                              value=0, truncating=\"post\", padding=\"post\")\n",
        "                \n",
        "                input_tensor = torch.tensor(input_ids).long()\n",
        "                \n",
        "                input_tensor = input_tensor.to('cuda')\n",
        "\n",
        "                with torch.no_grad():\n",
        "                  embedding = relation_model(input_tensor)\n",
        "                  \n",
        "                  op_tensor = embedding[1][12][0][0].to('cpu')\n",
        "                  rel_dict = dict()\n",
        "                  rel_dict['embedding'] = op_tensor.detach().numpy()\n",
        "                  rel_dict['label'] = 1\n",
        "                  rel_dict['relation'] = relation\n",
        "                  relation_list_in.append(rel_dict)\n",
        "\n",
        "            if(relation != 'NoREL'):     \n",
        "              for no_relation in remaining_relations:\n",
        "                  for entry in sentence_map[no_relation]:\n",
        "                      second_sentence = entry.format(entity_row['text'],row['text'])\n",
        "\n",
        "                      encoding = get_embeddings_for_nsp(first_sentence,second_sentence)\n",
        "                      \n",
        "                      input_tensor = torch.tensor(pad_sequences([encoding],maxlen=512, dtype=\"long\", \n",
        "                                value=0, truncating=\"post\", padding=\"post\")).long()\n",
        "\n",
        "                      input_tensor = input_tensor.to('cuda')\n",
        "\n",
        "                      with torch.no_grad():\n",
        "                        embedding = relation_model(input_tensor)\n",
        "                        \n",
        "                        op_tensor = embedding[1][12][0][0].to('cpu')\n",
        "\n",
        "                        rel_dict = dict()\n",
        "                        rel_dict['embedding'] = op_tensor.detach().numpy()\n",
        "                        rel_dict['label'] = 0\n",
        "                        rel_dict['relation'] = no_relation\n",
        "                        relation_list_in.append(rel_dict)\n",
        "              '''\n",
        "    relation_list.extend(relation_list_in)"
      ],
      "execution_count": 18,
      "outputs": [
        {
          "output_type": "stream",
          "text": [
            "100%|██████████| 16/16 [11:31<00:00, 43.22s/it]\n"
          ],
          "name": "stderr"
        }
      ]
    },
    {
      "cell_type": "code",
      "metadata": {
        "colab": {
          "base_uri": "https://localhost:8080/"
        },
        "id": "yBkdLJo43I4R",
        "outputId": "4803d26f-a455-4fed-c744-cdfe40b50324"
      },
      "source": [
        "relation_df.columns"
      ],
      "execution_count": 39,
      "outputs": [
        {
          "output_type": "execute_result",
          "data": {
            "text/plain": [
              "Index(['relation', 'embedding', 'type'], dtype='object')"
            ]
          },
          "metadata": {
            "tags": []
          },
          "execution_count": 39
        }
      ]
    },
    {
      "cell_type": "code",
      "metadata": {
        "id": "KsUlAdng2YxD"
      },
      "source": [
        "relation_list_test = list()\r\n",
        "exist_rec_list = list()\r\n",
        "\r\n",
        "all_relations_dict = {\"treatment\":['TrIP','TrWP','TrCP','TrAP','TrNAP','NoREL'], \"test\":['TeRP','TeCP','NoREL'], \"problem\":['PIP','NoREL']}\r\n",
        "\r\n",
        "all_problems = concept_df[(concept_df['concept_type']=='problem') & (concept_df['file_name'].isin(test_files))]\r\n",
        "\r\n",
        "for index,row in all_problems.iterrows():\r\n",
        "    all_other_entities = concept_df[(concept_df['file_name']==row['file_name'])&(concept_df['source']==row['source'])&(concept_df['line_number']==row['line_number'])&(concept_df['begin_word_num']!=row['begin_word_num'])]\r\n",
        "    \r\n",
        "    for entity_index,entity_row in all_other_entities.iterrows():\r\n",
        "        \r\n",
        "        key_to_check = row[\"source\"]+\"#\"+row[\"file_name\"]+\"#\"+str(row[\"line_number\"])+\"#\"+str(entity_row[\"begin_word_num\"])+\"#\"+str(row[\"begin_word_num\"])\r\n",
        "        \r\n",
        "        if(key_to_check in exist_rec_list):\r\n",
        "            continue\r\n",
        "        else:\r\n",
        "            exist_rec_list.append(row[\"source\"]+\"#\"+row[\"file_name\"]+\"#\"+str(row[\"line_number\"])+\"#\"+str(row[\"begin_word_num\"])+\"#\"+str(entity_row[\"begin_word_num\"]))\r\n",
        "        \r\n",
        "        relation_df_record = relation_df[(relation_df['file_name']==row['file_name'])&(relation_df['source']==row['source'])&(relation_df['from_line_number']==row['line_number'])&(((relation_df['from_begin_word_num']==row['begin_word_num']) & (relation_df['to_begin_word_num']==entity_row['begin_word_num'])) |((relation_df['from_begin_word_num']==entity_row['begin_word_num']) & (relation_df['to_begin_word_num']==row['begin_word_num'])))]\r\n",
        "        \r\n",
        "        rel_dict = dict()\r\n",
        "\r\n",
        "        if(len(relation_df_record)==0):\r\n",
        "            relation = 'NoREL'\r\n",
        "        else:\r\n",
        "            relation = relation_df_record.iloc[0][\"relation_type\"]\r\n",
        "\r\n",
        "        rel_dict['relation'] = relation\r\n",
        "        \r\n",
        "        #remaining_relations = [entry for entry in all_relations_dict[entity_row['concept_type']] if entry != relation]\r\n",
        "        \r\n",
        "        #relation_label_list.append(relation_label_dict[relation])\r\n",
        "    \r\n",
        "        #remaining_relations = [entry for entry in all_relations_dict[entity_row['concept_type']] if entry != relation]\r\n",
        "        \r\n",
        "        first_sentence = text_df[text_df['file_name']==row['file_name']].iloc[0]['text'].split(\"\\n\")[row['line_number']-1]\r\n",
        "        \r\n",
        "        first_sentence.replace(row['text'],\"@problem\")\r\n",
        "        \r\n",
        "        if(entity_row['concept_type']=='problem'):\r\n",
        "            relation_model = relation_model_pp\r\n",
        "            first_sentence.replace(entity_row['text'],\"@related_problem\")\r\n",
        "        elif(entity_row['concept_type']=='test'):\r\n",
        "            relation_model = relation_model_pte\r\n",
        "            first_sentence.replace(entity_row['text'],\"@test\")\r\n",
        "        else:\r\n",
        "            relation_model = relation_model_ptr\r\n",
        "            first_sentence.replace(entity_row['text'],\"@treatment\")\r\n",
        "\r\n",
        "        encoding = bert_tokenizer.encode(first_sentence)\r\n",
        "                  \r\n",
        "        input_tensor = torch.tensor(pad_sequences([encoding],maxlen=512, dtype=\"long\", \r\n",
        "                  value=0, truncating=\"post\", padding=\"post\")).long()\r\n",
        "\r\n",
        "        input_tensor = input_tensor.to('cuda')\r\n",
        "\r\n",
        "        with torch.no_grad():\r\n",
        "          embedding = relation_model(input_tensor)\r\n",
        "          \r\n",
        "          op_tensor = embedding[1][12][0][0].to('cpu')\r\n",
        "\r\n",
        "          \r\n",
        "          rel_dict['embedding'] = op_tensor.detach().numpy()\r\n",
        "          rel_dict['type'] = entity_row['concept_type']\r\n",
        "          relation_list_test.append(rel_dict)\r\n"
      ],
      "execution_count": 43,
      "outputs": []
    },
    {
      "cell_type": "code",
      "metadata": {
        "id": "CPixwi7dzCUh"
      },
      "source": [
        "import pandas as pd"
      ],
      "execution_count": 20,
      "outputs": []
    },
    {
      "cell_type": "code",
      "metadata": {
        "colab": {
          "base_uri": "https://localhost:8080/"
        },
        "id": "-wUfFRaHg0S2",
        "outputId": "7d79365a-c184-4927-d293-cde04fe55639"
      },
      "source": [
        "t = torch.cuda.get_device_properties(0).total_memory\n",
        "c = torch.cuda.memory_cached(0)\n",
        "a = torch.cuda.memory_allocated(0)\n",
        "f = c-a"
      ],
      "execution_count": null,
      "outputs": [
        {
          "output_type": "stream",
          "text": [
            "/usr/local/lib/python3.6/dist-packages/torch/cuda/memory.py:346: FutureWarning: torch.cuda.memory_cached has been renamed to torch.cuda.memory_reserved\n",
            "  FutureWarning)\n"
          ],
          "name": "stderr"
        }
      ]
    },
    {
      "cell_type": "code",
      "metadata": {
        "id": "714FStnRg43X"
      },
      "source": [
        "relation_df = pd.DataFrame(relation_list)"
      ],
      "execution_count": 21,
      "outputs": []
    },
    {
      "cell_type": "code",
      "metadata": {
        "id": "x0KF7Jt74jNY"
      },
      "source": [
        "relation_df_test = pd.DataFrame(relation_list_test)"
      ],
      "execution_count": 44,
      "outputs": []
    },
    {
      "cell_type": "code",
      "metadata": {
        "id": "DgdAu6ZPztRr"
      },
      "source": [
        "relation_df_problem = relation_df[relation_df['type']=='problem']"
      ],
      "execution_count": 23,
      "outputs": []
    },
    {
      "cell_type": "code",
      "metadata": {
        "id": "pKMod-Ftz3Al"
      },
      "source": [
        "X_embedding_pp = np.vstack(list(relation_df_problem[\"embedding\"]))                                \r\n",
        "y_relation_pp =list(relation_df_problem[\"relation\"]) "
      ],
      "execution_count": 27,
      "outputs": []
    },
    {
      "cell_type": "code",
      "metadata": {
        "id": "yCTcIidA0HwG"
      },
      "source": [
        "clf_relation_pp = LogisticRegression(random_state=0,solver=\"lbfgs\",max_iter=10000).fit(X_embedding_pp, y_relation_pp)"
      ],
      "execution_count": 28,
      "outputs": []
    },
    {
      "cell_type": "code",
      "metadata": {
        "colab": {
          "base_uri": "https://localhost:8080/"
        },
        "id": "htSoBd2T0MUT",
        "outputId": "f255490a-69d1-48a7-cde0-adf877ebdb26"
      },
      "source": [
        "clf_relation_pp.score(X_embedding_pp,y_relation_pp)"
      ],
      "execution_count": 29,
      "outputs": [
        {
          "output_type": "execute_result",
          "data": {
            "text/plain": [
              "0.8632237067488866"
            ]
          },
          "metadata": {
            "tags": []
          },
          "execution_count": 29
        }
      ]
    },
    {
      "cell_type": "code",
      "metadata": {
        "id": "S9qQ_P-n4pSw"
      },
      "source": [
        "relation_df_test_problem = relation_df_test[relation_df_test['type']=='problem']\r\n",
        "X_embedding_pp_test = np.vstack(list(relation_df_test_problem[\"embedding\"]))                                \r\n",
        "y_relation_pp_test =list(relation_df_test_problem[\"relation\"]) \r\n",
        "\r\n",
        "relation_df_test_test = relation_df_test[relation_df_test['type']=='test']\r\n",
        "X_embedding_pte_test = np.vstack(list(relation_df_test_test[\"embedding\"]))                                \r\n",
        "y_relation_pte_test =list(relation_df_test_test[\"relation\"]) \r\n",
        "\r\n",
        "relation_df_test_treatment = relation_df_test[relation_df_test['type']=='treatment']\r\n",
        "X_embedding_ptr_test = np.vstack(list(relation_df_test_treatment[\"embedding\"]))                                \r\n",
        "y_relation_ptr_test =list(relation_df_test_treatment[\"relation\"]) \r\n"
      ],
      "execution_count": 51,
      "outputs": []
    },
    {
      "cell_type": "code",
      "metadata": {
        "colab": {
          "base_uri": "https://localhost:8080/"
        },
        "id": "8TIIMJ1E419L",
        "outputId": "d80f22f7-0283-4df6-bbbf-d8e5bb9f9fb4"
      },
      "source": [
        "clf_relation_pp.score(X_embedding_pp_test,y_relation_pp_test)"
      ],
      "execution_count": 46,
      "outputs": [
        {
          "output_type": "execute_result",
          "data": {
            "text/plain": [
              "0.8414111440817672"
            ]
          },
          "metadata": {
            "tags": []
          },
          "execution_count": 46
        }
      ]
    },
    {
      "cell_type": "code",
      "metadata": {
        "id": "VhmXlZFM47V-"
      },
      "source": [
        "from sklearn.metrics import f1_score"
      ],
      "execution_count": 47,
      "outputs": []
    },
    {
      "cell_type": "code",
      "metadata": {
        "colab": {
          "base_uri": "https://localhost:8080/"
        },
        "id": "L54E4vNa5J6G",
        "outputId": "e9587fb2-9377-4b26-f165-7fd94b837553"
      },
      "source": [
        "f1_score(y_relation_pp_test,clf_relation_pp.predict(X_embedding_pp_test),labels=['NoREL','PIP'], average=None)"
      ],
      "execution_count": 50,
      "outputs": [
        {
          "output_type": "execute_result",
          "data": {
            "text/plain": [
              "array([0.91182401, 0.21276596])"
            ]
          },
          "metadata": {
            "tags": []
          },
          "execution_count": 50
        }
      ]
    },
    {
      "cell_type": "code",
      "metadata": {
        "colab": {
          "base_uri": "https://localhost:8080/"
        },
        "id": "Uv-bMJqf7OxQ",
        "outputId": "8397c78e-4525-49e1-b7c5-9bd7d46aa203"
      },
      "source": [
        "precision_score(y_relation_pp_test,clf_relation_pp.predict(X_embedding_pp_test),labels=['NoREL','PIP'], average=None)"
      ],
      "execution_count": 61,
      "outputs": [
        {
          "output_type": "execute_result",
          "data": {
            "text/plain": [
              "array([0.85906736, 0.47101449])"
            ]
          },
          "metadata": {
            "tags": []
          },
          "execution_count": 61
        }
      ]
    },
    {
      "cell_type": "code",
      "metadata": {
        "colab": {
          "base_uri": "https://localhost:8080/"
        },
        "id": "muy5NMwH7S4j",
        "outputId": "9992aad9-6c60-4abb-ebf2-fa07cb22afe6"
      },
      "source": [
        "recall_score(y_relation_pp_test,clf_relation_pp.predict(X_embedding_pp_test),labels=['NoREL','PIP'], average=None)"
      ],
      "execution_count": 62,
      "outputs": [
        {
          "output_type": "execute_result",
          "data": {
            "text/plain": [
              "array([0.97148437, 0.13742072])"
            ]
          },
          "metadata": {
            "tags": []
          },
          "execution_count": 62
        }
      ]
    },
    {
      "cell_type": "code",
      "metadata": {
        "id": "D_F0GMaj54gi"
      },
      "source": [
        "labels_test = list(set(y_relation_pte_test))"
      ],
      "execution_count": 54,
      "outputs": []
    },
    {
      "cell_type": "code",
      "metadata": {
        "colab": {
          "base_uri": "https://localhost:8080/"
        },
        "id": "1FUGlCwH6NTA",
        "outputId": "5d7a9803-bc3d-45d4-ac1a-4b832ffab63c"
      },
      "source": [
        "labels_test"
      ],
      "execution_count": 55,
      "outputs": [
        {
          "output_type": "execute_result",
          "data": {
            "text/plain": [
              "['NoREL', 'TeCP', 'TeRP']"
            ]
          },
          "metadata": {
            "tags": []
          },
          "execution_count": 55
        }
      ]
    },
    {
      "cell_type": "code",
      "metadata": {
        "colab": {
          "base_uri": "https://localhost:8080/"
        },
        "id": "cENyA7zO5hY4",
        "outputId": "f9293c5a-a8a2-4617-c76f-84791e08b483"
      },
      "source": [
        "f1_score(y_relation_pte_test,clf_relation_pte.predict(X_embedding_pte_test),labels=labels_test, average=None)"
      ],
      "execution_count": 56,
      "outputs": [
        {
          "output_type": "execute_result",
          "data": {
            "text/plain": [
              "array([0.61553398, 0.26027397, 0.73969072])"
            ]
          },
          "metadata": {
            "tags": []
          },
          "execution_count": 56
        }
      ]
    },
    {
      "cell_type": "code",
      "metadata": {
        "colab": {
          "base_uri": "https://localhost:8080/"
        },
        "id": "rL_6-o_N7eAu",
        "outputId": "1bc20608-4874-4374-de36-35af844bad66"
      },
      "source": [
        "precision_score(y_relation_pte_test,clf_relation_pte.predict(X_embedding_pte_test),labels=labels_test, average=None)"
      ],
      "execution_count": 63,
      "outputs": [
        {
          "output_type": "execute_result",
          "data": {
            "text/plain": [
              "array([0.67161017, 0.48717949, 0.67291911])"
            ]
          },
          "metadata": {
            "tags": []
          },
          "execution_count": 63
        }
      ]
    },
    {
      "cell_type": "code",
      "metadata": {
        "colab": {
          "base_uri": "https://localhost:8080/"
        },
        "id": "RUeCNhTm7i0-",
        "outputId": "6ad4c4a4-9fd9-4169-d820-08873f3c1303"
      },
      "source": [
        "recall_score(y_relation_pte_test,clf_relation_pte.predict(X_embedding_pte_test),labels=labels_test, average=None)"
      ],
      "execution_count": 64,
      "outputs": [
        {
          "output_type": "execute_result",
          "data": {
            "text/plain": [
              "array([0.56810036, 0.17757009, 0.8211731 ])"
            ]
          },
          "metadata": {
            "tags": []
          },
          "execution_count": 64
        }
      ]
    },
    {
      "cell_type": "code",
      "metadata": {
        "id": "aXxZwhf96czb"
      },
      "source": [
        "labels_treatment = list(set(y_relation_ptr_test))"
      ],
      "execution_count": 57,
      "outputs": []
    },
    {
      "cell_type": "code",
      "metadata": {
        "colab": {
          "base_uri": "https://localhost:8080/"
        },
        "id": "g6m0MeYD6jFT",
        "outputId": "192baf41-6bc7-477b-ca7e-136304c4d2f4"
      },
      "source": [
        "labels_treatment"
      ],
      "execution_count": 58,
      "outputs": [
        {
          "output_type": "execute_result",
          "data": {
            "text/plain": [
              "['TrCP', 'TrIP', 'TrAP', 'NoREL', 'TrWP', 'TrNAP']"
            ]
          },
          "metadata": {
            "tags": []
          },
          "execution_count": 58
        }
      ]
    },
    {
      "cell_type": "code",
      "metadata": {
        "colab": {
          "base_uri": "https://localhost:8080/"
        },
        "id": "Urn8Av1X6322",
        "outputId": "6ff12063-09cf-43e9-df6a-1ea57526d6d6"
      },
      "source": [
        "f1_score(y_relation_ptr_test,clf_relation_ptr.predict(X_embedding_ptr_test),labels=labels_treatment, average=None)"
      ],
      "execution_count": 59,
      "outputs": [
        {
          "output_type": "execute_result",
          "data": {
            "text/plain": [
              "array([0.22047244, 0.07692308, 0.62944984, 0.76618883, 0.        ,\n",
              "       0.        ])"
            ]
          },
          "metadata": {
            "tags": []
          },
          "execution_count": 59
        }
      ]
    },
    {
      "cell_type": "code",
      "metadata": {
        "colab": {
          "base_uri": "https://localhost:8080/"
        },
        "id": "jnazjifd7pWP",
        "outputId": "566e2ee4-dc9e-4fcd-dbce-1918490aca29"
      },
      "source": [
        "precision_score(y_relation_ptr_test,clf_relation_ptr.predict(X_embedding_ptr_test),labels=labels_treatment, average=None)"
      ],
      "execution_count": 65,
      "outputs": [
        {
          "output_type": "stream",
          "text": [
            "/usr/local/lib/python3.6/dist-packages/sklearn/metrics/_classification.py:1272: UndefinedMetricWarning: Precision is ill-defined and being set to 0.0 in labels with no predicted samples. Use `zero_division` parameter to control this behavior.\n",
            "  _warn_prf(average, modifier, msg_start, len(result))\n"
          ],
          "name": "stderr"
        },
        {
          "output_type": "execute_result",
          "data": {
            "text/plain": [
              "array([0.60869565, 1.        , 0.63458401, 0.70135747, 0.        ,\n",
              "       0.        ])"
            ]
          },
          "metadata": {
            "tags": []
          },
          "execution_count": 65
        }
      ]
    },
    {
      "cell_type": "code",
      "metadata": {
        "colab": {
          "base_uri": "https://localhost:8080/"
        },
        "id": "694GhjDj7sZq",
        "outputId": "f8649e63-0d95-4b16-c320-0bf3392de525"
      },
      "source": [
        "recall_score(y_relation_ptr_test,clf_relation_ptr.predict(X_embedding_ptr_test),labels=labels_treatment, average=None)"
      ],
      "execution_count": 66,
      "outputs": [
        {
          "output_type": "execute_result",
          "data": {
            "text/plain": [
              "array([0.13461538, 0.04      , 0.62439807, 0.84422658, 0.        ,\n",
              "       0.        ])"
            ]
          },
          "metadata": {
            "tags": []
          },
          "execution_count": 66
        }
      ]
    },
    {
      "cell_type": "code",
      "metadata": {
        "id": "BKB5AyyP6sUh"
      },
      "source": [
        "relation_df_treatment = relation_df[relation_df['type']=='test']\r\n",
        "\r\n",
        "X_embedding_pte = np.vstack(list(relation_df_test[\"embedding\"]))                                \r\n",
        "y_relation_pte =list(relation_df_test[\"relation\"])\r\n",
        "\r\n",
        "clf_relation_pte = LogisticRegression(random_state=0,solver=\"lbfgs\",max_iter=10000).fit(X_embedding_pte, y_relation_pte)\r\n"
      ],
      "execution_count": null,
      "outputs": []
    },
    {
      "cell_type": "code",
      "metadata": {
        "colab": {
          "base_uri": "https://localhost:8080/"
        },
        "id": "lZ_HxrZP1r8j",
        "outputId": "589ee0b4-b182-4bd0-9cf2-ce2eef475c43"
      },
      "source": [
        "clf_relation_pte.score(X_embedding_pte,y_relation_pte)"
      ],
      "execution_count": 32,
      "outputs": [
        {
          "output_type": "execute_result",
          "data": {
            "text/plain": [
              "0.7257564003103181"
            ]
          },
          "metadata": {
            "tags": []
          },
          "execution_count": 32
        }
      ]
    },
    {
      "cell_type": "code",
      "metadata": {
        "id": "CzYryEuB1zIk"
      },
      "source": [
        "relation_df_treatment = relation_df[relation_df['type']=='treatment']\r\n",
        "\r\n",
        "X_embedding_ptr = np.vstack(list(relation_df_treatment[\"embedding\"]))                                \r\n",
        "y_relation_ptr =list(relation_df_treatment[\"relation\"])\r\n",
        "\r\n",
        "clf_relation_ptr = LogisticRegression(random_state=0,solver=\"lbfgs\",max_iter=10000).fit(X_embedding_ptr, y_relation_ptr)\r\n"
      ],
      "execution_count": 35,
      "outputs": []
    },
    {
      "cell_type": "code",
      "metadata": {
        "colab": {
          "base_uri": "https://localhost:8080/"
        },
        "id": "co8iCj4319DW",
        "outputId": "0c96af5b-7b20-4d54-f4cc-9281d7223755"
      },
      "source": [
        "clf_relation_ptr.score(X_embedding_ptr,y_relation_ptr)"
      ],
      "execution_count": 34,
      "outputs": [
        {
          "output_type": "execute_result",
          "data": {
            "text/plain": [
              "0.7257564003103181"
            ]
          },
          "metadata": {
            "tags": []
          },
          "execution_count": 34
        }
      ]
    },
    {
      "cell_type": "code",
      "metadata": {
        "id": "nqdIQchTRSir"
      },
      "source": [
        "relation_df_5 = pd.DataFrame(relation_list)"
      ],
      "execution_count": null,
      "outputs": []
    },
    {
      "cell_type": "code",
      "metadata": {
        "id": "0cYIJbF8RcCx"
      },
      "source": [
        "relation_df_6 = pd.DataFrame(relation_list)"
      ],
      "execution_count": null,
      "outputs": []
    },
    {
      "cell_type": "code",
      "metadata": {
        "colab": {
          "base_uri": "https://localhost:8080/"
        },
        "id": "uvJ2CrB107mc",
        "outputId": "883ebe78-fee5-46e7-916b-abc3ecebb519"
      },
      "source": [
        "del relation_model\n",
        "torch.cuda.empty_cache()\n",
        "gc.collect()"
      ],
      "execution_count": null,
      "outputs": [
        {
          "output_type": "execute_result",
          "data": {
            "text/plain": [
              "0"
            ]
          },
          "metadata": {
            "tags": []
          },
          "execution_count": 22
        }
      ]
    },
    {
      "cell_type": "code",
      "metadata": {
        "id": "KJvL6umAg1oP"
      },
      "source": [
        "pickle.dump(pd.DataFrame(relation_list),open(\"/content/drive/MyDrive/CS6120/rel_data_df.pkl\",\"wb\"))"
      ],
      "execution_count": null,
      "outputs": []
    },
    {
      "cell_type": "code",
      "metadata": {
        "id": "LvS0rg4AIgXh"
      },
      "source": [
        "import pandas as pd"
      ],
      "execution_count": null,
      "outputs": []
    },
    {
      "cell_type": "code",
      "metadata": {
        "id": "-EfeIqScLLtd"
      },
      "source": [
        "import h5py"
      ],
      "execution_count": null,
      "outputs": []
    },
    {
      "cell_type": "code",
      "metadata": {
        "id": "XjumNFwlMw53"
      },
      "source": [
        "hf.close()"
      ],
      "execution_count": null,
      "outputs": []
    },
    {
      "cell_type": "code",
      "metadata": {
        "id": "48rxhiBxJpxh"
      },
      "source": [
        "hf = h5py.File('/content/drive/MyDrive/CS6120/relation1.h5', 'w')\n",
        "\n",
        "#store = pd.HDFStore('/content/drive/MyDrive/CS6120/relation1.h5')\n",
        "\n",
        "#relation['df'] = pd.DataFrame(relation_list)  # save it\n",
        "#relation['df']"
      ],
      "execution_count": null,
      "outputs": []
    },
    {
      "cell_type": "code",
      "metadata": {
        "id": "O02I0sDuHLRa"
      },
      "source": [
        "all_rel_data = pickle.load(open(\"/content/drive/MyDrive/CS6120/rel_data_df.pkl\",\"rb\"))"
      ],
      "execution_count": null,
      "outputs": []
    },
    {
      "cell_type": "code",
      "metadata": {
        "id": "FjJg_HxJX0DN"
      },
      "source": [
        "all_rel_data = pd.DataFrame(relation_list)"
      ],
      "execution_count": null,
      "outputs": []
    },
    {
      "cell_type": "code",
      "metadata": {
        "colab": {
          "base_uri": "https://localhost:8080/"
        },
        "id": "my2MGeTFHSsx",
        "outputId": "72b29817-ae98-478d-d9b7-418f8f65a75e"
      },
      "source": [
        "all_rel_data.columns"
      ],
      "execution_count": null,
      "outputs": [
        {
          "output_type": "execute_result",
          "data": {
            "text/plain": [
              "Index(['relation', 'embedding'], dtype='object')"
            ]
          },
          "metadata": {
            "tags": []
          },
          "execution_count": 21
        }
      ]
    },
    {
      "cell_type": "code",
      "metadata": {
        "id": "CyFtDJwsfB2K"
      },
      "source": [
        "for index,row in all_rel_data.iterrows():\n",
        "  if(row['relation'] in ['PNP','TeNRP','TrNRP']):\n",
        "    all_rel_data.at[index,'relation'] = 'NoREL'"
      ],
      "execution_count": null,
      "outputs": []
    },
    {
      "cell_type": "code",
      "metadata": {
        "colab": {
          "base_uri": "https://localhost:8080/"
        },
        "id": "xgzA193rYkng",
        "outputId": "7b548581-a418-47f7-e5d7-959d60480ebd"
      },
      "source": [
        "all_rel_data.groupby(['relation','label']).size()"
      ],
      "execution_count": null,
      "outputs": [
        {
          "output_type": "execute_result",
          "data": {
            "text/plain": [
              "relation  label\n",
              "NoREL     0         7307\n",
              "          1        15899\n",
              "PIP       1         1730\n",
              "TeCP      0         2352\n",
              "          1          397\n",
              "TeRP      0          397\n",
              "          1         2352\n",
              "TrAP      0          835\n",
              "          1         1993\n",
              "TrCP      0         2406\n",
              "          1          422\n",
              "TrIP      0         2650\n",
              "          1          178\n",
              "TrNAP     0         2695\n",
              "          1          133\n",
              "TrWP      0         2726\n",
              "          1          102\n",
              "dtype: int64"
            ]
          },
          "metadata": {
            "tags": []
          },
          "execution_count": 48
        }
      ]
    },
    {
      "cell_type": "code",
      "metadata": {
        "id": "qqPjBzXIC0qN"
      },
      "source": [
        "final_dataframe = all_rel_data[all_rel_data['relation']=='NoREL']"
      ],
      "execution_count": null,
      "outputs": []
    },
    {
      "cell_type": "code",
      "metadata": {
        "colab": {
          "base_uri": "https://localhost:8080/"
        },
        "id": "J6fwG3TmEQfu",
        "outputId": "4d9227f9-da3f-42ea-d3fa-3622a099469d"
      },
      "source": [
        "for relation in labels:\n",
        "  print(relation)\n",
        "  if(relation=='NoREL'):\n",
        "    filt_df_1 = all_rel_data[(all_rel_data['relation']=='NoREL')&(all_rel_data['label']==1)]\n",
        "    filt_df_0 = all_rel_data[(all_rel_data['relation']=='NoREL')&(all_rel_data['label']==0)]\n",
        "\n",
        "    sample_df_1 = filt_df_1.sample(len(filt_df_0))\n",
        "\n",
        "    df_comb = pd.concat([sample_df_1,filt_df_0])\n",
        "  else:\n",
        "    df_comb = all_rel_data[all_rel_data['relation']==relation]\n",
        "  \n",
        "  if(len(final_dataframe)==0):\n",
        "    final_dataframe = df_comb\n",
        "  else:\n",
        "    final_dataframe = pd.concat([final_dataframe,df_comb])\n"
      ],
      "execution_count": null,
      "outputs": [
        {
          "output_type": "stream",
          "text": [
            "TrIP\n",
            "TrWP\n",
            "TrCP\n",
            "TrAP\n",
            "TrNAP\n",
            "NoREL\n",
            "TeRP\n",
            "TeCP\n",
            "PIP\n"
          ],
          "name": "stdout"
        }
      ]
    },
    {
      "cell_type": "code",
      "metadata": {
        "colab": {
          "base_uri": "https://localhost:8080/"
        },
        "id": "FPquj3JHYnFq",
        "outputId": "142a244e-8901-4d25-cc13-90cdabcfc5a2"
      },
      "source": [
        "len(all_rel_data[all_rel_data['label']==1])"
      ],
      "execution_count": null,
      "outputs": [
        {
          "output_type": "execute_result",
          "data": {
            "text/plain": [
              "31037"
            ]
          },
          "metadata": {
            "tags": []
          },
          "execution_count": 61
        }
      ]
    },
    {
      "cell_type": "code",
      "metadata": {
        "id": "F0JrgBDEHVSg"
      },
      "source": [
        "from sklearn.linear_model import LogisticRegression"
      ],
      "execution_count": 24,
      "outputs": []
    },
    {
      "cell_type": "code",
      "metadata": {
        "id": "1oI0pC2cHuE3"
      },
      "source": [
        "import numpy as np"
      ],
      "execution_count": 26,
      "outputs": []
    },
    {
      "cell_type": "code",
      "metadata": {
        "id": "kqrE4XvLHdD8"
      },
      "source": [
        "X_embedding = np.vstack(list(all_rel_data[\"embedding\"]))                                \n",
        "y_relation =list(all_rel_data[\"relation\"]) "
      ],
      "execution_count": null,
      "outputs": []
    },
    {
      "cell_type": "code",
      "metadata": {
        "id": "xyBupHGHHy6u"
      },
      "source": [
        "clf_relation = LogisticRegression(random_state=0,solver=\"lbfgs\",max_iter=10000).fit(X_embedding, y_relation)"
      ],
      "execution_count": null,
      "outputs": []
    },
    {
      "cell_type": "code",
      "metadata": {
        "colab": {
          "base_uri": "https://localhost:8080/"
        },
        "id": "AFJDjVn-PTbq",
        "outputId": "d16fcf4b-1ba9-4a0a-a782-30064b163408"
      },
      "source": [
        "clf_relation.predict_proba([all_rel_data.iloc[0]['embedding']])[0][1]"
      ],
      "execution_count": null,
      "outputs": [
        {
          "output_type": "execute_result",
          "data": {
            "text/plain": [
              "0.21110379453444092"
            ]
          },
          "metadata": {
            "tags": []
          },
          "execution_count": 43
        }
      ]
    },
    {
      "cell_type": "code",
      "metadata": {
        "colab": {
          "base_uri": "https://localhost:8080/"
        },
        "id": "jP7aByWaIPsi",
        "outputId": "df2a800a-3a76-439e-adf9-c0628d5ed02b"
      },
      "source": [
        "clf_relation.score(X_embedding, y_relation)"
      ],
      "execution_count": null,
      "outputs": [
        {
          "output_type": "execute_result",
          "data": {
            "text/plain": [
              "0.7340343014737568"
            ]
          },
          "metadata": {
            "tags": []
          },
          "execution_count": 28
        }
      ]
    },
    {
      "cell_type": "code",
      "metadata": {
        "colab": {
          "base_uri": "https://localhost:8080/"
        },
        "id": "MzBCal3jVOqW",
        "outputId": "957a5eeb-807e-4e12-9c30-c6afefc4292c"
      },
      "source": [
        "y_true = y_relation\n",
        "y_predicted = clf_relation.predict(X_embedding)\n",
        "f1_score(y_true,y_predicted,average=None)"
      ],
      "execution_count": null,
      "outputs": [
        {
          "output_type": "execute_result",
          "data": {
            "text/plain": [
              "array([0.84061123, 0.2070922 , 0.10502283, 0.43560606, 0.51303075,\n",
              "       0.13419913, 0.07407407, 0.        , 0.        ])"
            ]
          },
          "metadata": {
            "tags": []
          },
          "execution_count": 36
        }
      ]
    },
    {
      "cell_type": "code",
      "metadata": {
        "id": "jSmGA429Kw-e"
      },
      "source": [
        "from sklearn.metrics import confusion_matrix"
      ],
      "execution_count": null,
      "outputs": []
    },
    {
      "cell_type": "code",
      "metadata": {
        "colab": {
          "base_uri": "https://localhost:8080/"
        },
        "id": "3RnQY7W6VsWG",
        "outputId": "d2accd4e-6285-49cf-bd65-90493bd76793"
      },
      "source": [
        "list(set(y_relation))"
      ],
      "execution_count": null,
      "outputs": [
        {
          "output_type": "execute_result",
          "data": {
            "text/plain": [
              "['TrAP', 'PIP', 'TrCP', 'TrIP', 'TrWP', 'NoREL', 'TeRP', 'TeCP', 'TrNAP']"
            ]
          },
          "metadata": {
            "tags": []
          },
          "execution_count": 35
        }
      ]
    },
    {
      "cell_type": "code",
      "metadata": {
        "colab": {
          "base_uri": "https://localhost:8080/"
        },
        "id": "H6VBZLqWLAkU",
        "outputId": "987c2fd7-6b7b-4da4-d0e7-76ff0bb0f462"
      },
      "source": [
        "confusion_matrix(y_relation,clf_relation.predict(X_embedding),list(set(y_relation)))"
      ],
      "execution_count": null,
      "outputs": [
        {
          "output_type": "execute_result",
          "data": {
            "text/plain": [
              "array([[  876,     5,     0,     0,     0,  1092,    16,     4,     0],\n",
              "       [   42,   219,     3,     0,     0,  1380,    86,     0,     0],\n",
              "       [   58,     8,    31,     0,     0,   322,     3,     0,     0],\n",
              "       [   26,     1,     0,     7,     0,   142,     2,     0,     0],\n",
              "       [   17,     0,     1,     1,     0,    82,     1,     0,     0],\n",
              "       [  294,   129,     4,     1,     0, 15073,   389,     9,     0],\n",
              "       [   34,    13,     0,     0,     0,  1495,   805,     5,     0],\n",
              "       [   57,     8,     0,     2,     0,   267,    40,    23,     0],\n",
              "       [   18,     2,     1,     0,     0,   110,     2,     0,     0]])"
            ]
          },
          "metadata": {
            "tags": []
          },
          "execution_count": 33
        }
      ]
    },
    {
      "cell_type": "code",
      "metadata": {
        "colab": {
          "base_uri": "https://localhost:8080/"
        },
        "id": "6P8UVEMALyOk",
        "outputId": "734beb99-d77c-4957-828f-8ad891530556"
      },
      "source": [
        "all_problems = concept_df[(concept_df['concept_type']=='problem') & (concept_df['file_name'].isin(test_files))]\n",
        "exist_rec_list = list()\n",
        "\n",
        "all_relations_dict = {\"treatment\":['TrIP','TrWP','TrCP','TrAP','TrNAP','NoREL'], \"test\":['TeRP','TeCP','NoREL'], \"problem\":['PIP','NoREL']}\n",
        "\n",
        "print(len(all_problems))\n",
        "\n",
        "prediction_list = []\n",
        "\n",
        "for index,row in tqdm(all_problems.iterrows()):\n",
        "    all_other_entities = concept_df[(concept_df['file_name']==row['file_name'])&(concept_df['source']==row['source'])&(concept_df['line_number']==row['line_number'])&(concept_df['begin_word_num']!=row['begin_word_num'])]\n",
        "    \n",
        "    for entity_index,entity_row in all_other_entities.iterrows():\n",
        "        \n",
        "        key_to_check = row[\"source\"]+\"#\"+row[\"file_name\"]+\"#\"+str(row[\"line_number\"])+\"#\"+str(entity_row[\"begin_word_num\"])+\"#\"+str(row[\"begin_word_num\"])\n",
        "        \n",
        "        if(key_to_check in exist_rec_list):\n",
        "            continue\n",
        "        else:\n",
        "            exist_rec_list.append(row[\"source\"]+\"#\"+row[\"file_name\"]+\"#\"+str(row[\"line_number\"])+\"#\"+str(row[\"begin_word_num\"])+\"#\"+str(entity_row[\"begin_word_num\"]))\n",
        "        \n",
        "        relation_df_record = relation_df[(relation_df['file_name']==row['file_name'])&(relation_df['source']==row['source'])&(relation_df['from_line_number']==row['line_number'])&(((relation_df['from_begin_word_num']==row['begin_word_num']) & (relation_df['to_begin_word_num']==entity_row['begin_word_num'])) |((relation_df['from_begin_word_num']==entity_row['begin_word_num']) & (relation_df['to_begin_word_num']==row['begin_word_num'])))]\n",
        "        \n",
        "        entry_dict = dict()\n",
        "\n",
        "        if(len(relation_df_record)==0):\n",
        "            entry_dict[\"True_label\"] = 0\n",
        "            relation = \"NoREL\"\n",
        "        else:\n",
        "            relation = relation_df_record.iloc[0][\"relation_type\"]\n",
        "            entry_dict[\"True_label\"] = 1\n",
        "\n",
        "        entry_dict[\"True_relation\"] = relation\n",
        "\n",
        "        all_relations = [entry for entry in all_relations_dict[entity_row['concept_type']]]\n",
        "\n",
        "        first_sentence = text_df[text_df['file_name']==row['file_name']].iloc[0]['text'].split(\"\\n\")[row['line_number']-1]\n",
        "        \n",
        "        entry = sentence_map['NoREL'][0]\n",
        "        second_sentence = entry.format(entity_row['text'],row['text'])\n",
        "        \n",
        "        encoding = get_embeddings_for_nsp(first_sentence,second_sentence)\n",
        "\n",
        "        input_tensor = torch.tensor(pad_sequences([encoding],maxlen=512, dtype=\"long\", \n",
        "                  value=0, truncating=\"post\", padding=\"post\")).long()\n",
        "\n",
        "        input_tensor = input_tensor.to('cuda')\n",
        "\n",
        "        with torch.no_grad():\n",
        "          embedding = relation_model(input_tensor)\n",
        "          \n",
        "          op_12 = embedding[0][0].to('cpu').detach().numpy()\n",
        "\n",
        "          if(op_12[1]>op_12[0]):\n",
        "            entry_dict[\"predicted_label\"] = 1\n",
        "          else:\n",
        "            entry_dict[\"predicted_label\"] = 0\n",
        "          prediction_list.append(entry_dict)\n",
        "        '''\n",
        "        max_probability = 0\n",
        "        predicted_relation = \"\"        \n",
        "\n",
        "        for present_relation in all_relations:\n",
        "            for entry in sentence_map[present_relation]:\n",
        "                second_sentence = entry.format(entity_row['text'],row['text'])\n",
        "                \n",
        "                encoding = get_embeddings_for_nsp(first_sentence,second_sentence)\n",
        "\n",
        "                input_tensor = torch.tensor(pad_sequences([encoding],maxlen=512, dtype=\"long\", \n",
        "                          value=0, truncating=\"post\", padding=\"post\")).long()\n",
        "\n",
        "                input_tensor = input_tensor.to('cuda')\n",
        "\n",
        "                with torch.no_grad():\n",
        "                  embedding = relation_model(input_tensor)\n",
        "                  \n",
        "                  op_tensor = embedding[1][12][0][0].to('cpu')\n",
        "\n",
        "                  embedding_input = op_tensor.detach().numpy()\n",
        "\n",
        "                  if(clf_relation.predict([embedding_input])[0]==1):\n",
        "                    op_probab = clf_relation.predict_proba([embedding_input])[0][1]\n",
        "\n",
        "                    if(op_probab>max_probability):\n",
        "                      if(present_relation==\"NoREL\"):\n",
        "                        if(predicted_relation==\"\"):\n",
        "                          predicted_relation = \"NoREL\"\n",
        "                      else:\n",
        "                        predicted_relation = present_relation\n",
        "        \n",
        "          \n",
        "        if(predicted_relation == \"\"):\n",
        "          predicted_relation = \"NoREL\"\n",
        "        entry_dict[\"predicted_relation\"] = predicted_relation\n",
        "        prediction_list.append(entry_dict)\n",
        "        '''"
      ],
      "execution_count": null,
      "outputs": [
        {
          "output_type": "stream",
          "text": [
            "\r0it [00:00, ?it/s]"
          ],
          "name": "stderr"
        },
        {
          "output_type": "stream",
          "text": [
            "4269\n"
          ],
          "name": "stdout"
        },
        {
          "output_type": "stream",
          "text": [
            "4269it [03:11, 22.35it/s]\n"
          ],
          "name": "stderr"
        }
      ]
    },
    {
      "cell_type": "code",
      "metadata": {
        "id": "9opX2D2OkF1e"
      },
      "source": [
        "encoding = get_embeddings_for_nsp(\"I am a boy.\",\"No new thing.\")\n",
        "\n",
        "input_tensor = torch.tensor(pad_sequences([encoding],maxlen=512, dtype=\"long\", \n",
        "          value=0, truncating=\"post\", padding=\"post\")).long()\n",
        "\n",
        "input_tensor = input_tensor.to('cuda')\n",
        "\n",
        "with torch.no_grad():\n",
        "  embedding = relation_model(input_tensor)\n",
        "  \n",
        "  op_tensor = embedding[1][12][0][0].to('cpu')\n",
        "\n",
        "  embedding_input = op_tensor.detach().numpy()\n",
        "\n",
        "  #temp_op  = clf_relation.predict([embedding_input])[0]"
      ],
      "execution_count": null,
      "outputs": []
    },
    {
      "cell_type": "code",
      "metadata": {
        "colab": {
          "base_uri": "https://localhost:8080/"
        },
        "id": "8WjzqASnreeO",
        "outputId": "c3f14701-07e7-4abe-a0d1-6cd217b55fd2"
      },
      "source": [
        "embedding[0][0].to('cpu').detach().numpy()[0]"
      ],
      "execution_count": null,
      "outputs": [
        {
          "output_type": "execute_result",
          "data": {
            "text/plain": [
              "3.3855474"
            ]
          },
          "metadata": {
            "tags": []
          },
          "execution_count": 19
        }
      ]
    },
    {
      "cell_type": "code",
      "metadata": {
        "id": "NVGEpdoKN9Vt"
      },
      "source": [
        "import pandas as pd\n"
      ],
      "execution_count": null,
      "outputs": []
    },
    {
      "cell_type": "code",
      "metadata": {
        "id": "Is19c6zeTG9A"
      },
      "source": [
        "pred_df = pd.DataFrame(prediction_list)"
      ],
      "execution_count": null,
      "outputs": []
    },
    {
      "cell_type": "code",
      "metadata": {
        "id": "IxMNUdbGTMRv"
      },
      "source": [
        "from sklearn.metrics import f1_score, precision_score, recall_score"
      ],
      "execution_count": 60,
      "outputs": []
    },
    {
      "cell_type": "code",
      "metadata": {
        "id": "CzA_8mKkTSRc"
      },
      "source": [
        "y_true = list(pred_df['True_label'])\n",
        "y_predicted = list(pred_df['predicted_label'])"
      ],
      "execution_count": null,
      "outputs": []
    },
    {
      "cell_type": "code",
      "metadata": {
        "colab": {
          "base_uri": "https://localhost:8080/"
        },
        "id": "xFLPqM26EFEh",
        "outputId": "10e61b18-b6a4-48f5-e00d-1f57809c0aac"
      },
      "source": [
        "y_predicted[0:10]"
      ],
      "execution_count": null,
      "outputs": [
        {
          "output_type": "execute_result",
          "data": {
            "text/plain": [
              "[0, 0, 0, 0, 0, 0, 0, 0, 0, 0]"
            ]
          },
          "metadata": {
            "tags": []
          },
          "execution_count": 20
        }
      ]
    },
    {
      "cell_type": "code",
      "metadata": {
        "id": "si8H0kZvTn07"
      },
      "source": [
        "from sklearn.metrics import accuracy_score"
      ],
      "execution_count": null,
      "outputs": []
    },
    {
      "cell_type": "code",
      "metadata": {
        "colab": {
          "base_uri": "https://localhost:8080/",
          "height": 162
        },
        "id": "h_-cR7SkTeBD",
        "outputId": "9d3b1607-ecc2-408c-dd6b-dce968624c76"
      },
      "source": [
        "f1_score(y_true,y_predicted)"
      ],
      "execution_count": null,
      "outputs": [
        {
          "output_type": "error",
          "ename": "NameError",
          "evalue": "ignored",
          "traceback": [
            "\u001b[0;31m---------------------------------------------------------------------------\u001b[0m",
            "\u001b[0;31mNameError\u001b[0m                                 Traceback (most recent call last)",
            "\u001b[0;32m<ipython-input-22-f0bd1ce281d6>\u001b[0m in \u001b[0;36m<module>\u001b[0;34m()\u001b[0m\n\u001b[0;32m----> 1\u001b[0;31m \u001b[0mf1_score\u001b[0m\u001b[0;34m(\u001b[0m\u001b[0my_true\u001b[0m\u001b[0;34m,\u001b[0m\u001b[0my_predicted\u001b[0m\u001b[0;34m)\u001b[0m\u001b[0;34m\u001b[0m\u001b[0;34m\u001b[0m\u001b[0m\n\u001b[0m",
            "\u001b[0;31mNameError\u001b[0m: name 'f1_score' is not defined"
          ]
        }
      ]
    },
    {
      "cell_type": "code",
      "metadata": {
        "colab": {
          "base_uri": "https://localhost:8080/"
        },
        "id": "K-Fb9boHTrTU",
        "outputId": "eecbc3a7-3d10-47b0-a8d2-6f7110169445"
      },
      "source": [
        "accuracy_score(y_true,y_predicted)"
      ],
      "execution_count": null,
      "outputs": [
        {
          "output_type": "execute_result",
          "data": {
            "text/plain": [
              "0.6574360645056198"
            ]
          },
          "metadata": {
            "tags": []
          },
          "execution_count": 23
        }
      ]
    },
    {
      "cell_type": "code",
      "metadata": {
        "id": "VB1S_rQzTze7"
      },
      "source": [
        "labels = ['TrIP','TrWP','TrCP','TrAP','TrNAP','NoREL','TeRP','TeCP','PIP']"
      ],
      "execution_count": null,
      "outputs": []
    },
    {
      "cell_type": "code",
      "metadata": {
        "colab": {
          "base_uri": "https://localhost:8080/"
        },
        "id": "E7LCy1teUkaT",
        "outputId": "10e6c25c-b453-41da-f8ae-185e444e6b4a"
      },
      "source": [
        "confusion_matrix(y_true,y_predicted,labels)"
      ],
      "execution_count": null,
      "outputs": [
        {
          "output_type": "execute_result",
          "data": {
            "text/plain": [
              "array([[   0,    0,    0,    8,    0,   17,    0,    0,    0],\n",
              "       [   0,    0,    0,   12,    0,   19,    0,    0,    0],\n",
              "       [   0,    0,    2,   47,    0,   55,    0,    0,    0],\n",
              "       [   0,    0,    1,  185,   20,  417,    0,    0,    0],\n",
              "       [   0,    0,    0,    9,    3,   29,    0,    0,    0],\n",
              "       [   0,    0,    5,  462,  195,  321,  367,  141, 2545],\n",
              "       [   0,    0,    0,    0,    0,   71,  558,   70,    0],\n",
              "       [   0,    0,    0,    0,    0,   21,   77,    9,    0],\n",
              "       [   0,    0,    0,    0,    0,   10,    0,    0,  463]])"
            ]
          },
          "metadata": {
            "tags": []
          },
          "execution_count": 76
        }
      ]
    },
    {
      "cell_type": "code",
      "metadata": {
        "colab": {
          "base_uri": "https://localhost:8080/"
        },
        "id": "eWP08WtLOU6m",
        "outputId": "38d23acb-810c-4344-b757-8910908b9d5d"
      },
      "source": [
        "len([entry for entry in y_true if entry=='TrWP'])"
      ],
      "execution_count": null,
      "outputs": [
        {
          "output_type": "execute_result",
          "data": {
            "text/plain": [
              "31"
            ]
          },
          "metadata": {
            "tags": []
          },
          "execution_count": 49
        }
      ]
    }
  ]
}